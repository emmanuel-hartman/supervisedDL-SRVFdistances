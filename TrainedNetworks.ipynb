{
 "cells": [
  {
   "cell_type": "markdown",
   "metadata": {},
   "source": [
    "# Using Trained Networks\n"
   ]
  },
  {
   "cell_type": "markdown",
   "metadata": {},
   "source": [
    "#### We load our models using Keras' built in load_model function."
   ]
  },
  {
   "cell_type": "code",
   "execution_count": 9,
   "metadata": {},
   "outputs": [],
   "source": [
    "import tensorflow as tf;\n",
    "import keras;\n",
    "import numpy as np;\n",
    "from keras.models import Sequential,Model,load_model\n",
    "from keras.layers import *\n",
    "import keras.backend as K\n",
    "import matplotlib.pyplot as plt\n",
    "import scipy.io as sio"
   ]
  },
  {
   "cell_type": "markdown",
   "metadata": {},
   "source": [
    "#### We first show how to use the network was trained on pairs of open, real valued functions discretized at 90 points from our Synthetic I data set."
   ]
  },
  {
   "cell_type": "code",
   "execution_count": 10,
   "metadata": {},
   "outputs": [],
   "source": [
    "dim=1\n",
    "length=90\n",
    "model=load_model(\"TrainedNetworks/Model_Synthetic1.h5\")"
   ]
  },
  {
   "cell_type": "markdown",
   "metadata": {},
   "source": [
    "#### We now load 30 pairs of open, real valued functions discretized at 90 points from our Synthetic II data set. "
   ]
  },
  {
   "cell_type": "code",
   "execution_count": 11,
   "metadata": {},
   "outputs": [],
   "source": [
    "dataf=sio.loadmat(\"Data/Synthetic2Examples.mat\")  #Load data\n",
    "tData = dataf['tData']"
   ]
  },
  {
   "cell_type": "markdown",
   "metadata": {},
   "source": [
    "#### Our data is an array with dimensions (number of pairs)x(length)x(2\\*dim) and then split into the fist and second curve of each pair in the next lines. We then predict the shape distance of each pair. The array *nnDist* is a length 30 arry with the distances for each pair."
   ]
  },
  {
   "cell_type": "code",
   "execution_count": 12,
   "metadata": {},
   "outputs": [],
   "source": [
    "tData1=tData[:,:,0:dim]\n",
    "tData2=tData[:,:,dim:2*dim]\n",
    "\n",
    "nnDist= model.predict([tData1,tData2], batch_size=30, verbose=0, steps=None,  callbacks=None, max_queue_size=10, workers=1, use_multiprocessing=True)    #predict using the trained model on the testing data"
   ]
  },
  {
   "cell_type": "markdown",
   "metadata": {},
   "source": [
    "#### We now show how to use the network was trained on closed, 2-dimensional curves discretized at 100 points from the Kimia dataset."
   ]
  },
  {
   "cell_type": "code",
   "execution_count": 13,
   "metadata": {},
   "outputs": [],
   "source": [
    "dim=2\n",
    "length=100\n",
    "model=load_model(\"TrainedNetworks/Model_Kimia.h5\")"
   ]
  },
  {
   "cell_type": "markdown",
   "metadata": {},
   "source": [
    "#### We now load 30 pairs closed, 2-dimensional curves discretized at 100 points from the Swedish Leaf dataset."
   ]
  },
  {
   "cell_type": "code",
   "execution_count": 14,
   "metadata": {},
   "outputs": [],
   "source": [
    "dataf=sio.loadmat(\"Data/LeavesExamples.mat\")  #Load data\n",
    "tData = dataf['tData']"
   ]
  },
  {
   "cell_type": "markdown",
   "metadata": {},
   "source": [
    "#### Our data is an array with dimensions (number of pairs)x(length)x(2\\*dim) and then split into the fist and second curve of each pair in the next lines. We then predict the shape distance of each pair. The array *nnDist* is a length 30 arry with the distances for each pair."
   ]
  },
  {
   "cell_type": "code",
   "execution_count": 15,
   "metadata": {},
   "outputs": [],
   "source": [
    "tData1=tData[:,:,0:dim]\n",
    "tData2=tData[:,:,dim:2*dim]\n",
    "\n",
    "nnDist= model.predict([tData1,tData2], batch_size=30, verbose=0, steps=None,  callbacks=None, max_queue_size=10, workers=1, use_multiprocessing=True)    #predict using the trained model on the testing data"
   ]
  }
 ],
 "metadata": {
  "kernelspec": {
   "display_name": "Python 3",
   "language": "python",
   "name": "python3"
  },
  "language_info": {
   "codemirror_mode": {
    "name": "ipython",
    "version": 3
   },
   "file_extension": ".py",
   "mimetype": "text/x-python",
   "name": "python",
   "nbconvert_exporter": "python",
   "pygments_lexer": "ipython3",
   "version": "3.7.3"
  }
 },
 "nbformat": 4,
 "nbformat_minor": 2
}
