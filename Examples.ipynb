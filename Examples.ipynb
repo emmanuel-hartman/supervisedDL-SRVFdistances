{
 "cells": [
  {
   "cell_type": "markdown",
   "metadata": {},
   "source": [
    "# Demo/Examples of Supervised Deep Learning for SRVF Distances\n"
   ]
  },
  {
   "cell_type": "code",
   "execution_count": null,
   "metadata": {},
   "outputs": [],
   "source": [
    "import tensorflow as tf;\n",
    "tf.config.experimental.set_visible_devices([], 'GPU')\n",
    "import keras;\n",
    "import numpy as np;\n",
    "from keras.models import Sequential,Model,load_model\n",
    "from keras.layers import *\n",
    "import keras.backend as K\n",
    "import matplotlib.pyplot as plt\n",
    "import scipy.io as sio\n",
    "\n",
    "\n",
    "from DLsrvf import CyclicPad, defineModel, trainModelwSPDA, trainAndValidateModelwSPDA,  randomCurveFromShapeClass, getShapeClass"
   ]
  },
  {
   "cell_type": "markdown",
   "metadata": {},
   "source": [
    "First we need to define some relevant values about the data we wish to train and test our network on. We will use a synthetic dataset consisting of open, $\\mathbb{R}^1$-valued functions discretized at 90 points. Next we define relevant variables for the training process."
   ]
  },
  {
   "cell_type": "code",
   "execution_count": null,
   "metadata": {},
   "outputs": [],
   "source": [
    "length=90        #how many data points per curve\n",
    "dim=1            #dimension of the curve set to 1 for now\n",
    "closed=False     #whether or not the curves are closed\n",
    "epoch=500            #epochs to train\n",
    "trainsize=10000; #batch size for training \n",
    "reparamn=10;     #number of samples to pull from the shape class during Shape Preserving Data Analysis"
   ]
  },
  {
   "cell_type": "markdown",
   "metadata": {},
   "source": [
    "Now we can import our dataset."
   ]
  },
  {
   "cell_type": "code",
   "execution_count": null,
   "metadata": {},
   "outputs": [],
   "source": [
    "dataf=sio.loadmat(\"Data/Synthetic18~6.mat\")  #Load data\n",
    "\n",
    "tData = dataf['tData']                  #Separate data into training (tr) and test (t) data\n",
    "otrData = dataf['otrData']\n",
    "tLabels = dataf['tLabels']  \n",
    "otrLabels = dataf['otrLabels']\n",
    "\n",
    "\n",
    "tData1=tData[:,:,0:dim]\n",
    "tData2=tData[:,:,dim:2*dim]"
   ]
  },
  {
   "cell_type": "markdown",
   "metadata": {},
   "source": [
    "Next use our functions to define a Keras model and train it according to the parameters defined above. "
   ]
  },
  {
   "cell_type": "code",
   "execution_count": null,
   "metadata": {},
   "outputs": [],
   "source": [
    "model = defineModel(90,1,False)\n",
    "model, trainMSE, testMSE=trainAndValidateModelwSPDA(model,length,dim,closed,otrData,otrLabels,tData,tLabels,epoch,trainsize)"
   ]
  },
  {
   "cell_type": "markdown",
   "metadata": {},
   "source": [
    "The function *trainModelAndValidatewSPDA*  also returns two numpy arrays containing the mean squared error after each epoch of training for both the training data and testing/validation data. We plotted the both of these errors from our training below."
   ]
  },
  {
   "attachments": {
    "LossPlot.png": {
     "image/png": "[encoded data removed]"
    }
   },
   "cell_type": "markdown",
   "metadata": {},
   "source": [
    "|![LossPlot.png](attachment:LossPlot.png)|\n",
    "|:--:| \n",
    "| *Mean Squared Error of the network on training data (blue) and testing data (red)* |\n",
    "| *The x-axis represents the number of training iterations* |"
   ]
  },
  {
   "cell_type": "markdown",
   "metadata": {},
   "source": [
    "Another function to highlight is *randomCurveFromShapeClass* as they are essential for our shape preserving data augmentation step. First we will load in a closed 2d curve.  discretized at 100 points."
   ]
  },
  {
   "cell_type": "code",
   "execution_count": null,
   "metadata": {},
   "outputs": [],
   "source": [
    "length=100\n",
    "dim=2\n",
    "closed=True\n",
    "\n",
    "curvef=sio.loadmat(\"Data/2DCurve.mat\") \n",
    "f=curvef['curve']\n",
    "\n",
    "plt.figure(figsize=(5, 5))\n",
    "plt.axes(label=\"ax\").set_aspect('equal', 'datalim')\n",
    "plt.plot(f[:,0],f[:,1])\n",
    "plt.scatter(f[:,0],f[:,1],c=np.arange(0,length))\n",
    "plt.set_cmap('hsv')\n",
    "plt.show()"
   ]
  },
  {
   "cell_type": "markdown",
   "metadata": {},
   "source": [
    "Using randomCurveFromShapeClass we can create any number of unique curves with the same shape as our original curve."
   ]
  },
  {
   "cell_type": "code",
   "execution_count": null,
   "metadata": {},
   "outputs": [],
   "source": [
    "for i in range(0,4):\n",
    "    plt.figure(figsize=(5, 5))\n",
    "    f1=randomCurveFromShapeClass(f,length,dim, closed)\n",
    "    plt.axes(label=\"ax\").set_aspect('equal', 'datalim')\n",
    "    plt.plot(f1[:,0],f1[:,1])\n",
    "    plt.scatter(f1[:,0],f1[:,1],c=np.arange(0,length))\n",
    "    plt.set_cmap('hsv')\n",
    "    plt.show()"
   ]
  },
  {
   "cell_type": "markdown",
   "metadata": {},
   "source": [
    "Finally for any of our main functions you can use *help(funtion_name)* to learn about the parameters of the functions and what the functions return. For example,"
   ]
  },
  {
   "cell_type": "code",
   "execution_count": null,
   "metadata": {},
   "outputs": [],
   "source": [
    "help(getShapeClass)"
   ]
  },
  {
   "cell_type": "code",
   "execution_count": null,
   "metadata": {},
   "outputs": [],
   "source": []
  }
 ],
 "metadata": {
  "kernelspec": {
   "display_name": "Python 3",
   "language": "python",
   "name": "python3"
  },
  "language_info": {
   "codemirror_mode": {
    "name": "ipython",
    "version": 3
   },
   "file_extension": ".py",
   "mimetype": "text/x-python",
   "name": "python",
   "nbconvert_exporter": "python",
   "pygments_lexer": "ipython3",
   "version": "3.6.12"
  }
 },
 "nbformat": 4,
 "nbformat_minor": 2
}
